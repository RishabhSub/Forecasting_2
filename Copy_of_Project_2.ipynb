{
  "nbformat": 4,
  "nbformat_minor": 0,
  "metadata": {
    "colab": {
      "name": "Copy of Project 2.ipynb",
      "provenance": []
    },
    "kernelspec": {
      "name": "python3",
      "display_name": "Python 3"
    },
    "language_info": {
      "name": "python"
    }
  },
  "cells": [
    {
      "cell_type": "markdown",
      "metadata": {
        "id": "LbNc4_snDRrW"
      },
      "source": [
        "#Project 2\n",
        "Instructions: \n",
        "- Please read the project description before your start.\n",
        "- To save a copy of your ipython notebook: click ```File -> Download .ipyhon```\n",
        "- Write your code in the code cells below each Step description. You may add extra cells if needed.\n"
      ]
    },
    {
      "cell_type": "code",
      "metadata": {
        "id": "mXWFR1pGKLBZ",
        "colab": {
          "base_uri": "https://localhost:8080/"
        },
        "outputId": "0d3c11c3-d381-48a1-da65-5da43906f874"
      },
      "source": [
        "\n",
        "pip install statsmodels==0.12.0\n",
        "import statsmodels"
      ],
      "execution_count": null,
      "outputs": [
        {
          "output_type": "stream",
          "text": [
            "Collecting statsmodels==0.12.0\n",
            "\u001b[?25l  Downloading https://files.pythonhosted.org/packages/ff/68/ca52fc6a114141f13dfaee340fc355e2825753f1cbe3702a13a5046e16de/statsmodels-0.12.0-cp37-cp37m-manylinux1_x86_64.whl (9.5MB)\n",
            "\u001b[K     |████████████████████████████████| 9.5MB 1.5MB/s \n",
            "\u001b[?25hRequirement already satisfied: patsy>=0.5 in /usr/local/lib/python3.7/dist-packages (from statsmodels==0.12.0) (0.5.1)\n",
            "Requirement already satisfied: numpy>=1.15 in /usr/local/lib/python3.7/dist-packages (from statsmodels==0.12.0) (1.19.5)\n",
            "Requirement already satisfied: pandas>=0.21 in /usr/local/lib/python3.7/dist-packages (from statsmodels==0.12.0) (1.1.5)\n",
            "Requirement already satisfied: scipy>=1.1 in /usr/local/lib/python3.7/dist-packages (from statsmodels==0.12.0) (1.4.1)\n",
            "Requirement already satisfied: six in /usr/local/lib/python3.7/dist-packages (from patsy>=0.5->statsmodels==0.12.0) (1.15.0)\n",
            "Requirement already satisfied: pytz>=2017.2 in /usr/local/lib/python3.7/dist-packages (from pandas>=0.21->statsmodels==0.12.0) (2018.9)\n",
            "Requirement already satisfied: python-dateutil>=2.7.3 in /usr/local/lib/python3.7/dist-packages (from pandas>=0.21->statsmodels==0.12.0) (2.8.1)\n",
            "Installing collected packages: statsmodels\n",
            "  Found existing installation: statsmodels 0.10.2\n",
            "    Uninstalling statsmodels-0.10.2:\n",
            "      Successfully uninstalled statsmodels-0.10.2\n",
            "Successfully installed statsmodels-0.12.0\n"
          ],
          "name": "stdout"
        }
      ]
    },
    {
      "cell_type": "code",
      "metadata": {
        "id": "_A34OWSyDK2m",
        "colab": {
          "base_uri": "https://localhost:8080/"
        },
        "outputId": "ff92a4ea-5e1d-471a-fb4d-7fe4f141f9e7"
      },
      "source": [
        "import numpy as np\n",
        "import pandas as pd\n",
        "import datetime\n",
        "import matplotlib.pyplot as plt\n",
        "import statsmodels.api as sm\n",
        "from statsmodels.tsa.arima.model import ARIMA\n",
        "from statsmodels.graphics.tsaplots import plot_acf, plot_pacf\n",
        "from scipy import stats\n",
        "\n",
        "pip install arch\n",
        "from arch import arch_model"
      ],
      "execution_count": null,
      "outputs": [
        {
          "output_type": "stream",
          "text": [
            "Collecting arch\n",
            "\u001b[?25l  Downloading https://files.pythonhosted.org/packages/5f/a8/a85dad77039d2884547d4fb83d54edfc13a12e31981934d6d0fb6303b791/arch-4.19-cp37-cp37m-manylinux1_x86_64.whl (807kB)\n",
            "\r\u001b[K     |▍                               | 10kB 18.0MB/s eta 0:00:01\r\u001b[K     |▉                               | 20kB 22.7MB/s eta 0:00:01\r\u001b[K     |█▏                              | 30kB 14.8MB/s eta 0:00:01\r\u001b[K     |█▋                              | 40kB 13.4MB/s eta 0:00:01\r\u001b[K     |██                              | 51kB 9.3MB/s eta 0:00:01\r\u001b[K     |██▍                             | 61kB 9.8MB/s eta 0:00:01\r\u001b[K     |██▉                             | 71kB 9.9MB/s eta 0:00:01\r\u001b[K     |███▎                            | 81kB 10.7MB/s eta 0:00:01\r\u001b[K     |███▋                            | 92kB 10.0MB/s eta 0:00:01\r\u001b[K     |████                            | 102kB 8.7MB/s eta 0:00:01\r\u001b[K     |████▌                           | 112kB 8.7MB/s eta 0:00:01\r\u001b[K     |████▉                           | 122kB 8.7MB/s eta 0:00:01\r\u001b[K     |█████▎                          | 133kB 8.7MB/s eta 0:00:01\r\u001b[K     |█████▊                          | 143kB 8.7MB/s eta 0:00:01\r\u001b[K     |██████                          | 153kB 8.7MB/s eta 0:00:01\r\u001b[K     |██████▌                         | 163kB 8.7MB/s eta 0:00:01\r\u001b[K     |███████                         | 174kB 8.7MB/s eta 0:00:01\r\u001b[K     |███████▎                        | 184kB 8.7MB/s eta 0:00:01\r\u001b[K     |███████▊                        | 194kB 8.7MB/s eta 0:00:01\r\u001b[K     |████████▏                       | 204kB 8.7MB/s eta 0:00:01\r\u001b[K     |████████▌                       | 215kB 8.7MB/s eta 0:00:01\r\u001b[K     |█████████                       | 225kB 8.7MB/s eta 0:00:01\r\u001b[K     |█████████▍                      | 235kB 8.7MB/s eta 0:00:01\r\u001b[K     |█████████▊                      | 245kB 8.7MB/s eta 0:00:01\r\u001b[K     |██████████▏                     | 256kB 8.7MB/s eta 0:00:01\r\u001b[K     |██████████▌                     | 266kB 8.7MB/s eta 0:00:01\r\u001b[K     |███████████                     | 276kB 8.7MB/s eta 0:00:01\r\u001b[K     |███████████▍                    | 286kB 8.7MB/s eta 0:00:01\r\u001b[K     |███████████▊                    | 296kB 8.7MB/s eta 0:00:01\r\u001b[K     |████████████▏                   | 307kB 8.7MB/s eta 0:00:01\r\u001b[K     |████████████▋                   | 317kB 8.7MB/s eta 0:00:01\r\u001b[K     |█████████████                   | 327kB 8.7MB/s eta 0:00:01\r\u001b[K     |█████████████▍                  | 337kB 8.7MB/s eta 0:00:01\r\u001b[K     |█████████████▉                  | 348kB 8.7MB/s eta 0:00:01\r\u001b[K     |██████████████▏                 | 358kB 8.7MB/s eta 0:00:01\r\u001b[K     |██████████████▋                 | 368kB 8.7MB/s eta 0:00:01\r\u001b[K     |███████████████                 | 378kB 8.7MB/s eta 0:00:01\r\u001b[K     |███████████████▍                | 389kB 8.7MB/s eta 0:00:01\r\u001b[K     |███████████████▉                | 399kB 8.7MB/s eta 0:00:01\r\u001b[K     |████████████████▎               | 409kB 8.7MB/s eta 0:00:01\r\u001b[K     |████████████████▋               | 419kB 8.7MB/s eta 0:00:01\r\u001b[K     |█████████████████               | 430kB 8.7MB/s eta 0:00:01\r\u001b[K     |█████████████████▌              | 440kB 8.7MB/s eta 0:00:01\r\u001b[K     |█████████████████▉              | 450kB 8.7MB/s eta 0:00:01\r\u001b[K     |██████████████████▎             | 460kB 8.7MB/s eta 0:00:01\r\u001b[K     |██████████████████▊             | 471kB 8.7MB/s eta 0:00:01\r\u001b[K     |███████████████████             | 481kB 8.7MB/s eta 0:00:01\r\u001b[K     |███████████████████▌            | 491kB 8.7MB/s eta 0:00:01\r\u001b[K     |████████████████████            | 501kB 8.7MB/s eta 0:00:01\r\u001b[K     |████████████████████▎           | 512kB 8.7MB/s eta 0:00:01\r\u001b[K     |████████████████████▊           | 522kB 8.7MB/s eta 0:00:01\r\u001b[K     |█████████████████████           | 532kB 8.7MB/s eta 0:00:01\r\u001b[K     |█████████████████████▌          | 542kB 8.7MB/s eta 0:00:01\r\u001b[K     |██████████████████████          | 552kB 8.7MB/s eta 0:00:01\r\u001b[K     |██████████████████████▎         | 563kB 8.7MB/s eta 0:00:01\r\u001b[K     |██████████████████████▊         | 573kB 8.7MB/s eta 0:00:01\r\u001b[K     |███████████████████████▏        | 583kB 8.7MB/s eta 0:00:01\r\u001b[K     |███████████████████████▌        | 593kB 8.7MB/s eta 0:00:01\r\u001b[K     |████████████████████████        | 604kB 8.7MB/s eta 0:00:01\r\u001b[K     |████████████████████████▍       | 614kB 8.7MB/s eta 0:00:01\r\u001b[K     |████████████████████████▊       | 624kB 8.7MB/s eta 0:00:01\r\u001b[K     |█████████████████████████▏      | 634kB 8.7MB/s eta 0:00:01\r\u001b[K     |█████████████████████████▋      | 645kB 8.7MB/s eta 0:00:01\r\u001b[K     |██████████████████████████      | 655kB 8.7MB/s eta 0:00:01\r\u001b[K     |██████████████████████████▍     | 665kB 8.7MB/s eta 0:00:01\r\u001b[K     |██████████████████████████▉     | 675kB 8.7MB/s eta 0:00:01\r\u001b[K     |███████████████████████████▏    | 686kB 8.7MB/s eta 0:00:01\r\u001b[K     |███████████████████████████▋    | 696kB 8.7MB/s eta 0:00:01\r\u001b[K     |████████████████████████████    | 706kB 8.7MB/s eta 0:00:01\r\u001b[K     |████████████████████████████▍   | 716kB 8.7MB/s eta 0:00:01\r\u001b[K     |████████████████████████████▉   | 727kB 8.7MB/s eta 0:00:01\r\u001b[K     |█████████████████████████████▎  | 737kB 8.7MB/s eta 0:00:01\r\u001b[K     |█████████████████████████████▋  | 747kB 8.7MB/s eta 0:00:01\r\u001b[K     |██████████████████████████████  | 757kB 8.7MB/s eta 0:00:01\r\u001b[K     |██████████████████████████████▌ | 768kB 8.7MB/s eta 0:00:01\r\u001b[K     |██████████████████████████████▉ | 778kB 8.7MB/s eta 0:00:01\r\u001b[K     |███████████████████████████████▎| 788kB 8.7MB/s eta 0:00:01\r\u001b[K     |███████████████████████████████▋| 798kB 8.7MB/s eta 0:00:01\r\u001b[K     |████████████████████████████████| 808kB 8.7MB/s \n",
            "\u001b[?25hCollecting property-cached>=1.6.4\n",
            "  Downloading https://files.pythonhosted.org/packages/5c/6c/94d8e520b20a2502e508e1c558f338061cf409cbee78fd6a3a5c6ae812bd/property_cached-1.6.4-py2.py3-none-any.whl\n",
            "Requirement already satisfied: statsmodels>=0.10 in /usr/local/lib/python3.7/dist-packages (from arch) (0.12.0)\n",
            "Requirement already satisfied: cython>=0.29.14 in /usr/local/lib/python3.7/dist-packages (from arch) (0.29.22)\n",
            "Requirement already satisfied: scipy>=1.2.3 in /usr/local/lib/python3.7/dist-packages (from arch) (1.4.1)\n",
            "Requirement already satisfied: pandas>=0.23 in /usr/local/lib/python3.7/dist-packages (from arch) (1.1.5)\n",
            "Requirement already satisfied: numpy>=1.14 in /usr/local/lib/python3.7/dist-packages (from arch) (1.19.5)\n",
            "Requirement already satisfied: patsy>=0.5 in /usr/local/lib/python3.7/dist-packages (from statsmodels>=0.10->arch) (0.5.1)\n",
            "Requirement already satisfied: python-dateutil>=2.7.3 in /usr/local/lib/python3.7/dist-packages (from pandas>=0.23->arch) (2.8.1)\n",
            "Requirement already satisfied: pytz>=2017.2 in /usr/local/lib/python3.7/dist-packages (from pandas>=0.23->arch) (2018.9)\n",
            "Requirement already satisfied: six in /usr/local/lib/python3.7/dist-packages (from patsy>=0.5->statsmodels>=0.10->arch) (1.15.0)\n",
            "Installing collected packages: property-cached, arch\n",
            "Successfully installed arch-4.19 property-cached-1.6.4\n"
          ],
          "name": "stdout"
        }
      ]
    },
    {
      "cell_type": "markdown",
      "metadata": {
        "id": "tKiRMwy5FB1j"
      },
      "source": [
        "## Modeling volatility using US Dollar / Australian Dollar exchange rate data\n",
        "Step 1: import data from Github\n",
        "- Check to see that DataFrame usdaud a column ```USDAUD```, which is the USD/AUD exchange rate\n",
        "- The sample is daily and covers the period from Jan 2, 2001 to Oct 14, 2004"
      ]
    },
    {
      "cell_type": "code",
      "metadata": {
        "id": "BR1FmmUoN_PA"
      },
      "source": [
        ""
      ],
      "execution_count": null,
      "outputs": []
    },
    {
      "cell_type": "code",
      "metadata": {
        "id": "318mTjDnEy--",
        "colab": {
          "base_uri": "https://localhost:8080/",
          "height": 406
        },
        "outputId": "430b6b90-c4c2-4cd9-a750-a22824651a7b"
      },
      "source": [
        "# usdaud = pd.read_csv('https://raw.githubusercontent.com/shihanxie/Econ475/main/data/usdaud.csv', \n",
        "#                       na_values = '.', dtype={'USDYEN': np.float})\n",
        "# usdaud.index = pd.to_datetime(usdaud.index)\n",
        "usdaud.index = pd.date_range(start='2001-01-02', periods= usdaud.shape[0], freq='D')\n",
        "usdaud.head(-1)"
      ],
      "execution_count": null,
      "outputs": [
        {
          "output_type": "execute_result",
          "data": {
            "text/html": [
              "<div>\n",
              "<style scoped>\n",
              "    .dataframe tbody tr th:only-of-type {\n",
              "        vertical-align: middle;\n",
              "    }\n",
              "\n",
              "    .dataframe tbody tr th {\n",
              "        vertical-align: top;\n",
              "    }\n",
              "\n",
              "    .dataframe thead th {\n",
              "        text-align: right;\n",
              "    }\n",
              "</style>\n",
              "<table border=\"1\" class=\"dataframe\">\n",
              "  <thead>\n",
              "    <tr style=\"text-align: right;\">\n",
              "      <th></th>\n",
              "      <th>USDAUD</th>\n",
              "    </tr>\n",
              "  </thead>\n",
              "  <tbody>\n",
              "    <tr>\n",
              "      <th>2001-01-02</th>\n",
              "      <td>0.5592</td>\n",
              "    </tr>\n",
              "    <tr>\n",
              "      <th>2001-01-03</th>\n",
              "      <td>0.5635</td>\n",
              "    </tr>\n",
              "    <tr>\n",
              "      <th>2001-01-04</th>\n",
              "      <td>0.5655</td>\n",
              "    </tr>\n",
              "    <tr>\n",
              "      <th>2001-01-05</th>\n",
              "      <td>0.5712</td>\n",
              "    </tr>\n",
              "    <tr>\n",
              "      <th>2001-01-06</th>\n",
              "      <td>0.5660</td>\n",
              "    </tr>\n",
              "    <tr>\n",
              "      <th>...</th>\n",
              "      <td>...</td>\n",
              "    </tr>\n",
              "    <tr>\n",
              "      <th>2004-10-09</th>\n",
              "      <td>0.7315</td>\n",
              "    </tr>\n",
              "    <tr>\n",
              "      <th>2004-10-10</th>\n",
              "      <td>0.7301</td>\n",
              "    </tr>\n",
              "    <tr>\n",
              "      <th>2004-10-11</th>\n",
              "      <td>0.7340</td>\n",
              "    </tr>\n",
              "    <tr>\n",
              "      <th>2004-10-12</th>\n",
              "      <td>0.7284</td>\n",
              "    </tr>\n",
              "    <tr>\n",
              "      <th>2004-10-13</th>\n",
              "      <td>0.7316</td>\n",
              "    </tr>\n",
              "  </tbody>\n",
              "</table>\n",
              "<p>1381 rows × 1 columns</p>\n",
              "</div>"
            ],
            "text/plain": [
              "            USDAUD\n",
              "2001-01-02  0.5592\n",
              "2001-01-03  0.5635\n",
              "2001-01-04  0.5655\n",
              "2001-01-05  0.5712\n",
              "2001-01-06  0.5660\n",
              "...            ...\n",
              "2004-10-09  0.7315\n",
              "2004-10-10  0.7301\n",
              "2004-10-11  0.7340\n",
              "2004-10-12  0.7284\n",
              "2004-10-13  0.7316\n",
              "\n",
              "[1381 rows x 1 columns]"
            ]
          },
          "metadata": {
            "tags": []
          },
          "execution_count": 4
        }
      ]
    },
    {
      "cell_type": "markdown",
      "metadata": {
        "id": "kCS1NN0aRIJG"
      },
      "source": [
        "Step 2: Compute and plot the first difference of the log(exchange rate), or $\\Delta \\log(usdaud_t) \\times 100$. From now on, we will use $y_t$ to refer $\\Delta \\log(usdaud_t) \\times 100$, which is the daily percentage change in USD/AUD exchange rate.\n",
        "\n",
        "Hint: use ```np.log(var).diff()``` to compute the first difference of the log of ```var```."
      ]
    },
    {
      "cell_type": "code",
      "metadata": {
        "id": "iNUfA0-e_DjR",
        "colab": {
          "base_uri": "https://localhost:8080/",
          "height": 391
        },
        "outputId": "702cc0f1-6c73-4ce0-f6db-418f37d83428"
      },
      "source": [
        "usdaud['y_t'] = np.log(usdaud['USDAUD']).diff() * 100\n",
        "\n",
        "plt.figure(figsize=(10,6))\n",
        "plt.plot(usdaud['y_t'])\n",
        "ax = plt.gca()\n",
        "ax.set_ylabel('Percentage change in AUD/USD Rate', fontsize = 'large')\n",
        "ax.set_xlabel('date', fontsize = 'large')\n",
        "plt.show()\n"
      ],
      "execution_count": null,
      "outputs": [
        {
          "output_type": "display_data",
          "data": {
            "image/png": "[encoded data removed]",
            "text/plain": [
              "<Figure size 720x432 with 1 Axes>"
            ]
          },
          "metadata": {
            "tags": [],
            "needs_background": "light"
          }
        }
      ]
    },
    {
      "cell_type": "markdown",
      "metadata": {
        "id": "5MnNAfD0SBq5"
      },
      "source": [
        "Step 3: Plot the histogram and compute the descriptive statistics of $y_t$. Conduct the proper test to see if it is normally distributed."
      ]
    },
    {
      "cell_type": "code",
      "metadata": {
        "id": "AOCGb46w_DIi",
        "colab": {
          "base_uri": "https://localhost:8080/",
          "height": 495
        },
        "outputId": "047057bd-65df-42b9-b0dc-bcba7051b8b3"
      },
      "source": [
        "_, bins, _ = plt.hist(usdaud['y_t'],density = 1, bins=100)\n",
        "plt.show()\n",
        "print(usdaud['y_t'].describe())\n",
        "print('Skewness: ', usdaud['y_t'].skew())\n",
        "print('Kurtosis: ', usdaud['y_t'].kurt())\n",
        "print('Jarque-Bera test statistic is: ', stats.jarque_bera(usdaud['y_t'].dropna())[0])\n",
        "print('Jarque-Bera test p-value is: ', stats.jarque_bera(usdaud['y_t'].dropna())[1])"
      ],
      "execution_count": null,
      "outputs": [
        {
          "output_type": "display_data",
          "data": {
            "image/png": "[encoded data removed]",
            "text/plain": [
              "<Figure size 432x288 with 1 Axes>"
            ]
          },
          "metadata": {
            "tags": [],
            "needs_background": "light"
          }
        },
        {
          "output_type": "stream",
          "text": [
            "count    1381.000000\n",
            "mean        0.020510\n",
            "std         0.699923\n",
            "min        -3.529074\n",
            "25%        -0.377257\n",
            "50%         0.036623\n",
            "75%         0.463301\n",
            "max         2.364642\n",
            "Name: y_t, dtype: float64\n",
            "Skewness:  -0.43650388305589627\n",
            "Kurtosis:  1.380425650258319\n",
            "Jarque-Bera test statistic is:  151.93178356846568\n",
            "Jarque-Bera test p-value is:  0.0\n"
          ],
          "name": "stdout"
        }
      ]
    },
    {
      "cell_type": "markdown",
      "metadata": {
        "id": "P1_4SVnhZt6f"
      },
      "source": [
        "Step 4: Compare the historgram of $y_t$ to a normal distribution."
      ]
    },
    {
      "cell_type": "code",
      "metadata": {
        "id": "mzoJLWIZ_CxK",
        "colab": {
          "base_uri": "https://localhost:8080/",
          "height": 264
        },
        "outputId": "cccc86f6-32db-4ae1-9723-4f05f9138cc2"
      },
      "source": [
        "mu, sigma = stats.norm.fit(usdaud['y_t'].dropna())\n",
        "best_fit_line = stats.norm.pdf(bins, mu, sigma)\n",
        "plt.hist(usdaud['y_t'],density = 1, bins=100)\n",
        "plt.plot(bins, best_fit_line)\n",
        "plt.show()"
      ],
      "execution_count": null,
      "outputs": [
        {
          "output_type": "display_data",
          "data": {
            "image/png": "[encoded data removed]",
            "text/plain": [
              "<Figure size 432x288 with 1 Axes>"
            ]
          },
          "metadata": {
            "tags": [],
            "needs_background": "light"
          }
        }
      ]
    },
    {
      "cell_type": "markdown",
      "metadata": {
        "id": "tq0ccBZvZ8T5"
      },
      "source": [
        "Step 5: Compute the correlogram of squared $y_t$ up to 12 lags."
      ]
    },
    {
      "cell_type": "code",
      "metadata": {
        "id": "QS_XO2rj_CV6",
        "colab": {
          "base_uri": "https://localhost:8080/",
          "height": 544
        },
        "outputId": "cffe638e-370d-45be-8b24-a51f6a3b6b7f"
      },
      "source": [
        "usdaud['y_t_squared'] = usdaud['y_t'] ** 2\n",
        "\n",
        "plot_acf(usdaud['y_t'].dropna(), lags = 12)\n",
        "plot_pacf(usdaud['y_t'].dropna(), lags = 12)\n",
        "plt.show()"
      ],
      "execution_count": null,
      "outputs": [
        {
          "output_type": "display_data",
          "data": {
            "image/png": "[encoded data removed]",
            "text/plain": [
              "<Figure size 432x288 with 1 Axes>"
            ]
          },
          "metadata": {
            "tags": [],
            "needs_background": "light"
          }
        },
        {
          "output_type": "display_data",
          "data": {
            "image/png": "[encoded data removed]",
            "text/plain": [
              "<Figure size 432x288 with 1 Axes>"
            ]
          },
          "metadata": {
            "tags": [],
            "needs_background": "light"
          }
        }
      ]
    },
    {
      "cell_type": "markdown",
      "metadata": {
        "id": "4N7TETAvaZGB"
      },
      "source": [
        "Step 6: Estimate an AR(1) model for squared $y_t$"
      ]
    },
    {
      "cell_type": "code",
      "metadata": {
        "id": "TRg6Pm_3_B3f",
        "colab": {
          "base_uri": "https://localhost:8080/"
        },
        "outputId": "23a67743-cf1e-4dcc-a8f2-1089c1702f47"
      },
      "source": [
        "result_ar1 = ARIMA(usdaud['y_t_squared'], order=(1,0,0)).fit()\n",
        "print(result_ar1.summary())"
      ],
      "execution_count": null,
      "outputs": [
        {
          "output_type": "stream",
          "text": [
            "                               SARIMAX Results                                \n",
            "==============================================================================\n",
            "Dep. Variable:            y_t_squared   No. Observations:                 1382\n",
            "Model:                 ARIMA(1, 0, 0)   Log Likelihood               -1799.980\n",
            "Date:                Sat, 01 May 2021   AIC                           3605.960\n",
            "Time:                        02:39:09   BIC                           3621.653\n",
            "Sample:                    01-02-2001   HQIC                          3611.830\n",
            "                         - 10-14-2004                                         \n",
            "Covariance Type:                  opg                                         \n",
            "==============================================================================\n",
            "                 coef    std err          z      P>|z|      [0.025      0.975]\n",
            "------------------------------------------------------------------------------\n",
            "const          0.4900      0.040     12.144      0.000       0.411       0.569\n",
            "ar.L1          0.0592      0.020      3.012      0.003       0.021       0.098\n",
            "sigma2         0.7936      0.010     78.557      0.000       0.774       0.813\n",
            "===================================================================================\n",
            "Ljung-Box (L1) (Q):                   0.00   Jarque-Bera (JB):            107057.80\n",
            "Prob(Q):                              0.97   Prob(JB):                         0.00\n",
            "Heteroskedasticity (H):               0.64   Skew:                             5.10\n",
            "Prob(H) (two-sided):                  0.00   Kurtosis:                        44.90\n",
            "===================================================================================\n",
            "\n",
            "Warnings:\n",
            "[1] Covariance matrix calculated using the outer product of gradients (complex-step).\n"
          ],
          "name": "stdout"
        }
      ]
    },
    {
      "cell_type": "markdown",
      "metadata": {
        "id": "HjTI8W-Ca5qt"
      },
      "source": [
        "Step 7: Estimate an ARCH(1) model and a GARCH(1,1) model for\n",
        "$$\n",
        "\\begin{aligned}\n",
        "&y_t =\\mu+\\varepsilon_{t} \\\\\n",
        "&\\varepsilon_{t} \\mid \\Omega_{t-1} \\sim N\\left(0, \\sigma_{t}^{2}\\right)\n",
        "\\end{aligned}\n",
        "$$"
      ]
    },
    {
      "cell_type": "code",
      "metadata": {
        "id": "LSeTbdNA_A75",
        "colab": {
          "base_uri": "https://localhost:8080/"
        },
        "outputId": "bfdcd4ca-67ca-4ee4-a08b-948bdb1f3767"
      },
      "source": [
        "result_arch1 = arch_model(usdaud['y_t'].dropna(), vol='Garch', p=1, q=0, dist='Normal').fit()\n",
        "result_garch1_1 = arch_model(usdaud['y_t'].dropna(), vol='Garch', p=1, q=1, dist='Normal').fit()\n",
        "\n",
        "print(result_arch1.summary())\n",
        "print(result_garch1_1.summary())\n"
      ],
      "execution_count": null,
      "outputs": [
        {
          "output_type": "stream",
          "text": [
            "Iteration:      1,   Func. Count:      5,   Neg. LLF: 1570.1329745973953\n",
            "Iteration:      2,   Func. Count:     15,   Neg. LLF: 1566.3842348837911\n",
            "Iteration:      3,   Func. Count:     24,   Neg. LLF: 1477.3073254004657\n",
            "Iteration:      4,   Func. Count:     29,   Neg. LLF: 1466.8095971020887\n",
            "Iteration:      5,   Func. Count:     36,   Neg. LLF: 1465.257708264372\n",
            "Iteration:      6,   Func. Count:     42,   Neg. LLF: 1463.111821838681\n",
            "Iteration:      7,   Func. Count:     47,   Neg. LLF: 1462.8254905106833\n",
            "Iteration:      8,   Func. Count:     52,   Neg. LLF: 1462.8172947343844\n",
            "Iteration:      9,   Func. Count:     57,   Neg. LLF: 1462.8169311014042\n",
            "Iteration:     10,   Func. Count:     62,   Neg. LLF: 1462.8168780592673\n",
            "Optimization terminated successfully.    (Exit mode 0)\n",
            "            Current function value: 1462.8168780593169\n",
            "            Iterations: 10\n",
            "            Function evaluations: 62\n",
            "            Gradient evaluations: 10\n",
            "Iteration:      1,   Func. Count:      6,   Neg. LLF: 1433.374389425866\n",
            "Iteration:      2,   Func. Count:     16,   Neg. LLF: 1433.1754784412178\n",
            "Iteration:      3,   Func. Count:     26,   Neg. LLF: 1433.1595041560226\n",
            "Iteration:      4,   Func. Count:     33,   Neg. LLF: 1432.2950998523588\n",
            "Iteration:      5,   Func. Count:     40,   Neg. LLF: 1431.832737867866\n",
            "Iteration:      6,   Func. Count:     48,   Neg. LLF: 1431.739562556029\n",
            "Iteration:      7,   Func. Count:     55,   Neg. LLF: 1431.3212371250338\n",
            "Iteration:      8,   Func. Count:     62,   Neg. LLF: 1431.1991940048322\n",
            "Iteration:      9,   Func. Count:     69,   Neg. LLF: 1431.0472482588564\n",
            "Iteration:     10,   Func. Count:     76,   Neg. LLF: 1431.0377218906165\n",
            "Iteration:     11,   Func. Count:     82,   Neg. LLF: 1431.0374468700347\n",
            "Iteration:     12,   Func. Count:     88,   Neg. LLF: 1431.0372655356384\n",
            "Optimization terminated successfully.    (Exit mode 0)\n",
            "            Current function value: 1431.0372655311533\n",
            "            Iterations: 12\n",
            "            Function evaluations: 88\n",
            "            Gradient evaluations: 12\n",
            "                      Constant Mean - ARCH Model Results                      \n",
            "==============================================================================\n",
            "Dep. Variable:                    y_t   R-squared:                       0.000\n",
            "Mean Model:             Constant Mean   Adj. R-squared:                  0.000\n",
            "Vol Model:                       ARCH   Log-Likelihood:               -1462.82\n",
            "Distribution:                  Normal   AIC:                           2931.63\n",
            "Method:            Maximum Likelihood   BIC:                           2947.33\n",
            "                                        No. Observations:                 1381\n",
            "Date:                Sat, May 01 2021   Df Residuals:                     1380\n",
            "Time:                        02:39:07   Df Model:                            1\n",
            "                                  Mean Model                                 \n",
            "=============================================================================\n",
            "                 coef    std err          t      P>|t|       95.0% Conf. Int.\n",
            "-----------------------------------------------------------------------------\n",
            "mu             0.0290  1.924e-02      1.508      0.131 [-8.688e-03,6.672e-02]\n",
            "                              Volatility Model                             \n",
            "===========================================================================\n",
            "                 coef    std err          t      P>|t|     95.0% Conf. Int.\n",
            "---------------------------------------------------------------------------\n",
            "omega          0.4604  2.744e-02     16.780  3.443e-63    [  0.407,  0.514]\n",
            "alpha[1]       0.0591  3.553e-02      1.664  9.603e-02 [-1.050e-02,  0.129]\n",
            "===========================================================================\n",
            "\n",
            "Covariance estimator: robust\n",
            "                     Constant Mean - GARCH Model Results                      \n",
            "==============================================================================\n",
            "Dep. Variable:                    y_t   R-squared:                       0.000\n",
            "Mean Model:             Constant Mean   Adj. R-squared:                  0.000\n",
            "Vol Model:                      GARCH   Log-Likelihood:               -1431.04\n",
            "Distribution:                  Normal   AIC:                           2870.07\n",
            "Method:            Maximum Likelihood   BIC:                           2891.00\n",
            "                                        No. Observations:                 1381\n",
            "Date:                Sat, May 01 2021   Df Residuals:                     1380\n",
            "Time:                        02:39:07   Df Model:                            1\n",
            "                                  Mean Model                                 \n",
            "=============================================================================\n",
            "                 coef    std err          t      P>|t|       95.0% Conf. Int.\n",
            "-----------------------------------------------------------------------------\n",
            "mu             0.0255  1.838e-02      1.386      0.166 [-1.056e-02,6.149e-02]\n",
            "                              Volatility Model                              \n",
            "============================================================================\n",
            "                 coef    std err          t      P>|t|      95.0% Conf. Int.\n",
            "----------------------------------------------------------------------------\n",
            "omega      6.4089e-03  3.021e-03      2.121  3.391e-02 [4.869e-04,1.233e-02]\n",
            "alpha[1]       0.0316  7.722e-03      4.093  4.257e-05 [1.647e-02,4.674e-02]\n",
            "beta[1]        0.9551  1.017e-02     93.902      0.000     [  0.935,  0.975]\n",
            "============================================================================\n",
            "\n",
            "Covariance estimator: robust\n"
          ],
          "name": "stdout"
        }
      ]
    },
    {
      "cell_type": "markdown",
      "metadata": {
        "id": "NRt1241UsmT6"
      },
      "source": [
        "Step 8: Estimate an AR(1)-ARCH(1) model and an AR(1)-GARCH(1,1) model for\n",
        "$$\n",
        "\\begin{aligned}\n",
        "&y_t =\\mu+\\rho y_{t-1} + \\varepsilon_{t} \\\\\n",
        "&\\varepsilon_{t} \\mid \\Omega_{t-1} \\sim N\\left(0, \\sigma_{t}^{2}\\right)\n",
        "\\end{aligned}\n",
        "$$"
      ]
    },
    {
      "cell_type": "code",
      "metadata": {
        "id": "0gn0m7Uq_AEj",
        "colab": {
          "base_uri": "https://localhost:8080/"
        },
        "outputId": "030dd4ef-5137-4861-c4f1-7149e76b2cde"
      },
      "source": [
        "#ar and garch\n",
        "result_ar_arch = arch_model(usdaud['y_t'].dropna(), mean='AR', lags = 1, vol='Garch', p=1, q=0, dist='Normal').fit()\n",
        "result_ar_garch = arch_model(usdaud['y_t'].dropna(), mean='AR', lags = 1, vol='Garch', p=1, q=1, dist='Normal').fit()\n",
        "print(result_ar_arch.summary())\n",
        "print(result_ar_garch.summary())"
      ],
      "execution_count": null,
      "outputs": [
        {
          "output_type": "stream",
          "text": [
            "Iteration:      1,   Func. Count:      6,   Neg. LLF: 1568.0973477675218\n",
            "Iteration:      2,   Func. Count:     17,   Neg. LLF: 1564.3689395548224\n",
            "Iteration:      3,   Func. Count:     26,   Neg. LLF: 1528.3067410319074\n",
            "Iteration:      4,   Func. Count:     35,   Neg. LLF: 1477.5509476053664\n",
            "Iteration:      5,   Func. Count:     41,   Neg. LLF: 1467.9667321564307\n",
            "Iteration:      6,   Func. Count:     48,   Neg. LLF: 1466.8792512208754\n",
            "Iteration:      7,   Func. Count:     56,   Neg. LLF: 1461.556466859029\n",
            "Iteration:      8,   Func. Count:     62,   Neg. LLF: 1461.333253366922\n",
            "Iteration:      9,   Func. Count:     68,   Neg. LLF: 1461.2591939857666\n",
            "Iteration:     10,   Func. Count:     74,   Neg. LLF: 1461.2570731532278\n",
            "Iteration:     11,   Func. Count:     80,   Neg. LLF: 1461.2569598646874\n",
            "Iteration:     12,   Func. Count:     86,   Neg. LLF: 1461.2569567960886\n",
            "Optimization terminated successfully.    (Exit mode 0)\n",
            "            Current function value: 1461.2569567960204\n",
            "            Iterations: 12\n",
            "            Function evaluations: 86\n",
            "            Gradient evaluations: 12\n",
            "Iteration:      1,   Func. Count:      7,   Neg. LLF: 1431.7528913892954\n",
            "Iteration:      2,   Func. Count:     18,   Neg. LLF: 1431.5627089424183\n",
            "Iteration:      3,   Func. Count:     29,   Neg. LLF: 1431.5473982525377\n",
            "Iteration:      4,   Func. Count:     38,   Neg. LLF: 1431.472980250754\n",
            "Iteration:      5,   Func. Count:     46,   Neg. LLF: 1430.6356545908407\n",
            "Iteration:      6,   Func. Count:     54,   Neg. LLF: 1430.028337378635\n",
            "Iteration:      7,   Func. Count:     63,   Neg. LLF: 1429.8692594730896\n",
            "Iteration:      8,   Func. Count:     71,   Neg. LLF: 1429.7522940792503\n",
            "Iteration:      9,   Func. Count:     79,   Neg. LLF: 1429.6248089983885\n",
            "Iteration:     10,   Func. Count:     87,   Neg. LLF: 1429.5062476705823\n",
            "Iteration:     11,   Func. Count:     94,   Neg. LLF: 1429.4956019092538\n",
            "Iteration:     12,   Func. Count:    101,   Neg. LLF: 1429.4927661197116\n",
            "Iteration:     13,   Func. Count:    109,   Neg. LLF: 1429.4927013726056\n",
            "Iteration:     14,   Func. Count:    116,   Neg. LLF: 1429.4926961509354\n",
            "Optimization terminated successfully.    (Exit mode 0)\n",
            "            Current function value: 1429.4926961500341\n",
            "            Iterations: 14\n",
            "            Function evaluations: 116\n",
            "            Gradient evaluations: 14\n",
            "                           AR - ARCH Model Results                            \n",
            "==============================================================================\n",
            "Dep. Variable:                    y_t   R-squared:                       0.001\n",
            "Mean Model:                        AR   Adj. R-squared:                 -0.000\n",
            "Vol Model:                       ARCH   Log-Likelihood:               -1461.26\n",
            "Distribution:                  Normal   AIC:                           2930.51\n",
            "Method:            Maximum Likelihood   BIC:                           2951.43\n",
            "                                        No. Observations:                 1380\n",
            "Date:                Sat, May 01 2021   Df Residuals:                     1378\n",
            "Time:                        02:39:01   Df Model:                            2\n",
            "                                  Mean Model                                 \n",
            "=============================================================================\n",
            "                 coef    std err          t      P>|t|       95.0% Conf. Int.\n",
            "-----------------------------------------------------------------------------\n",
            "Const          0.0275  1.919e-02      1.431      0.153 [-1.016e-02,6.506e-02]\n",
            "y_t[1]         0.0267  2.895e-02      0.921      0.357 [-3.008e-02,8.341e-02]\n",
            "                              Volatility Model                             \n",
            "===========================================================================\n",
            "                 coef    std err          t      P>|t|     95.0% Conf. Int.\n",
            "---------------------------------------------------------------------------\n",
            "omega          0.4602  2.744e-02     16.768  4.216e-63    [  0.406,  0.514]\n",
            "alpha[1]       0.0589  3.562e-02      1.652  9.843e-02 [-1.095e-02,  0.129]\n",
            "===========================================================================\n",
            "\n",
            "Covariance estimator: robust\n",
            "                           AR - GARCH Model Results                           \n",
            "==============================================================================\n",
            "Dep. Variable:                    y_t   R-squared:                       0.001\n",
            "Mean Model:                        AR   Adj. R-squared:                  0.000\n",
            "Vol Model:                      GARCH   Log-Likelihood:               -1429.49\n",
            "Distribution:                  Normal   AIC:                           2868.99\n",
            "Method:            Maximum Likelihood   BIC:                           2895.13\n",
            "                                        No. Observations:                 1380\n",
            "Date:                Sat, May 01 2021   Df Residuals:                     1378\n",
            "Time:                        02:39:01   Df Model:                            2\n",
            "                                  Mean Model                                 \n",
            "=============================================================================\n",
            "                 coef    std err          t      P>|t|       95.0% Conf. Int.\n",
            "-----------------------------------------------------------------------------\n",
            "Const          0.0243  1.841e-02      1.320      0.187 [-1.178e-02,6.040e-02]\n",
            "y_t[1]         0.0256  2.671e-02      0.959      0.337 [-2.672e-02,7.797e-02]\n",
            "                              Volatility Model                              \n",
            "============================================================================\n",
            "                 coef    std err          t      P>|t|      95.0% Conf. Int.\n",
            "----------------------------------------------------------------------------\n",
            "omega      6.4183e-03  3.028e-03      2.119  3.406e-02 [4.826e-04,1.235e-02]\n",
            "alpha[1]       0.0318  7.772e-03      4.086  4.397e-05 [1.652e-02,4.698e-02]\n",
            "beta[1]        0.9549  1.027e-02     92.949      0.000     [  0.935,  0.975]\n",
            "============================================================================\n",
            "\n",
            "Covariance estimator: robust\n"
          ],
          "name": "stdout"
        }
      ]
    },
    {
      "cell_type": "markdown",
      "metadata": {
        "id": "KJ-J99m3s9nv"
      },
      "source": [
        "Step 9: Plot the estimated conditional variance of the best-fitting model among the ones considered"
      ]
    },
    {
      "cell_type": "code",
      "metadata": {
        "id": "DGddM8jK9_cs",
        "colab": {
          "base_uri": "https://localhost:8080/",
          "height": 297
        },
        "outputId": "95018bee-815b-4d36-b048-ea9643cf557b"
      },
      "source": [
        "# GARCHMODEL (1,1) best fit to the data\n",
        "\n",
        "plt.plot(result_garch1_1.conditional_volatility)\n",
        "ax = plt.gca()\n",
        "ax.tick_params(axis = 'x', rotation = 100)\n",
        "plt.show()"
      ],
      "execution_count": null,
      "outputs": [
        {
          "output_type": "display_data",
          "data": {
            "image/png": "[encoded data removed]",
            "text/plain": [
              "<Figure size 432x288 with 1 Axes>"
            ]
          },
          "metadata": {
            "tags": [],
            "needs_background": "light"
          }
        }
      ]
    }
  ]
}